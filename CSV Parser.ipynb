{
 "cells": [
  {
   "cell_type": "code",
   "execution_count": 1,
   "metadata": {},
   "outputs": [],
   "source": [
    "import csv\n",
    "import numpy as np\n",
    "import sys"
   ]
  },
  {
   "cell_type": "code",
   "execution_count": 2,
   "metadata": {},
   "outputs": [],
   "source": [
    "csv_path = \"/home/himanshuchaudhary/jupyter notebooks/parse.csv\""
   ]
  },
  {
   "cell_type": "code",
   "execution_count": 3,
   "metadata": {},
   "outputs": [],
   "source": [
    "i = 0 \n",
    "with open(csv_path, 'r') as f:\n",
    "    for line in f:\n",
    "        line = line.rstrip('\\n') #removing next line characters\n",
    "        if line in '':\n",
    "            continue #checking for the last line when there is no data\n",
    "        if i!=0:\n",
    "            val = np.append(val,np.array([line.split(',')],dtype='object'),axis=0) # appending next values\n",
    "        else:\n",
    "            val = np.array([line.split(',')],dtype='object') # geting first column which are name and storing them in numpy arrays\n",
    "            i=1\n"
   ]
  },
  {
   "cell_type": "code",
   "execution_count": 16,
   "metadata": {},
   "outputs": [
    {
     "name": "stdout",
     "output_type": "stream",
     "text": [
      "col names ===>  ['first_name' 'last_name' 'address' 'city' 'state' 'zip_code']\n",
      "total rows ===> (4, 6)\n",
      "type of data <class 'numpy.ndarray'>\n",
      "\n",
      "===== values =======\n",
      "\n",
      "['Tyrese' 'Hirthe' '1404 Turner Ville' 'Strackeport' 'NY' '19106-8813']\n",
      "['Jules' 'Dicki' '2410 Estella Cape Suite 061' 'Lake Nickolasville' 'ME'\n",
      " '00621-7435']\n",
      "['Dedric' 'Medhurst' '6912 Dayna Shoal' 'Stiedemannberg' 'SC' '43259-2273']\n"
     ]
    }
   ],
   "source": [
    "print(\"col names ===> \", val[0])\n",
    "print(\"total rows ===>\", val.shape)\n",
    "print(\"type of data\", type(val))\n",
    "print()\n",
    "print(\"===== values =======\")\n",
    "print()\n",
    "for _ in val[1:]:\n",
    "    print(_)"
   ]
  },
  {
   "cell_type": "markdown",
   "metadata": {},
   "source": [
    "# CSV SAMPLE USED\n"
   ]
  },
  {
   "cell_type": "code",
   "execution_count": null,
   "metadata": {},
   "outputs": [],
   "source": [
    "\"\"\"\n",
    "first_name,last_name,address,city,state,zip_code\n",
    "Tyrese,Hirthe,1404 Turner Ville,Strackeport,NY,19106-8813\n",
    "Jules,Dicki,2410 Estella Cape Suite 061,Lake Nickolasville,ME,00621-7435\n",
    "Dedric,Medhurst,6912 Dayna Shoal,Stiedemannberg,SC,43259-2273\n",
    "\n",
    "\"\"\""
   ]
  }
 ],
 "metadata": {
  "kernelspec": {
   "display_name": "Python 3",
   "language": "python",
   "name": "python3"
  },
  "language_info": {
   "codemirror_mode": {
    "name": "ipython",
    "version": 3
   },
   "file_extension": ".py",
   "mimetype": "text/x-python",
   "name": "python",
   "nbconvert_exporter": "python",
   "pygments_lexer": "ipython3",
   "version": "3.6.5"
  }
 },
 "nbformat": 4,
 "nbformat_minor": 2
}
